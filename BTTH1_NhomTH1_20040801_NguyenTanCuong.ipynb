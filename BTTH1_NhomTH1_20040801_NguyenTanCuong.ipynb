{
 "cells": [
  {
   "cell_type": "markdown",
   "metadata": {},
   "source": [
    "# Họ và tên: Nguyễn Tấn Cường\n",
    "# MSSV:20040801\n",
    "# Lớp học phần - Nhóm TH:Nhóm 1"
   ]
  },
  {
   "cell_type": "markdown",
   "metadata": {},
   "source": [
    "# 1. Hello world!"
   ]
  },
  {
   "cell_type": "code",
   "execution_count": 10,
   "metadata": {},
   "outputs": [
    {
     "name": "stdout",
     "output_type": "stream",
     "text": [
      "Hello world!\n"
     ]
    }
   ],
   "source": [
    "print(\"Hello world!\")"
   ]
  },
  {
   "cell_type": "markdown",
   "metadata": {},
   "source": [
    "# 2. Program to Add Two Numbers"
   ]
  },
  {
   "cell_type": "markdown",
   "metadata": {},
   "source": [
    "## Add Two Numbers"
   ]
  },
  {
   "cell_type": "code",
   "execution_count": 11,
   "metadata": {},
   "outputs": [
    {
     "name": "stdout",
     "output_type": "stream",
     "text": [
      "7.8\n"
     ]
    }
   ],
   "source": [
    "num1 = 1.5\n",
    "num2 = 6.3\n",
    "\n",
    "### START CODE HERE ### \n",
    "# Add two numbers\n",
    "\n",
    "sum = num1 + num2\n",
    "\n",
    "# Display the sum\n",
    "print(sum)"
   ]
  },
  {
   "cell_type": "markdown",
   "metadata": {},
   "source": [
    "##  Add Two Numbers With User Input"
   ]
  },
  {
   "cell_type": "code",
   "execution_count": 13,
   "metadata": {},
   "outputs": [
    {
     "name": "stdout",
     "output_type": "stream",
     "text": [
      "5.0\n"
     ]
    }
   ],
   "source": [
    "# Store input numbers\n",
    "num1 = float(input(\"Nhap:\"))\n",
    "num2 = float(input(\"Nhap:\"))\n",
    "### START CODE HERE ### \n",
    "\n",
    "# Add two numbers\n",
    "sum = num1 + num2\n",
    "\n",
    "### END CODE HERE ###\n",
    "print(sum)\n",
    "# Display the sum\n"
   ]
  },
  {
   "cell_type": "markdown",
   "metadata": {},
   "source": [
    "# 3. Program to Find the Square Root"
   ]
  },
  {
   "cell_type": "code",
   "execution_count": 23,
   "metadata": {},
   "outputs": [
    {
     "name": "stdout",
     "output_type": "stream",
     "text": [
      "Căn bậc 2 của 8 là: 2.8284271247461903\n"
     ]
    }
   ],
   "source": [
    "# Python Program to calculate the square root\n",
    "\n",
    "# Note: change this value for a different result\n",
    "num = 8 \n",
    "import math\n",
    "# To take the input from the user\n",
    "\n",
    "#num = float(input('Enter a number: '))\n",
    "ket_qua = math.sqrt(num)\n",
    "# calculate the square root \n",
    "\n",
    "\n",
    "#print the value of the square root\n",
    "print(\"Căn bậc 2 của\", num, \"là:\", ket_qua)"
   ]
  },
  {
   "cell_type": "markdown",
   "metadata": {},
   "source": [
    "# 4. Program to Calculate the Area of a Triangle\n",
    "s = (a+b+c)/2\n",
    "\n",
    "area = √(s(s-a)*(s-b)*(s-c))"
   ]
  },
  {
   "cell_type": "code",
   "execution_count": 22,
   "metadata": {},
   "outputs": [
    {
     "name": "stdout",
     "output_type": "stream",
     "text": [
      "The area of the triangle is 2.90\n"
     ]
    }
   ],
   "source": [
    "### START CODE HERE ### \n",
    "import math\n",
    "# take inputs from the user\n",
    "a = 4\n",
    "b = 3\n",
    "c = 2\n",
    "\n",
    "\n",
    "# calculate the semi-perimeter\n",
    "s = (a+b+c)/2\n",
    "\n",
    "# calculate the area\n",
    "area = math.sqrt(s*(s-a)*(s-b)*(s-c))\n",
    "\n",
    "### END CODE HERE ###\n",
    "\n",
    "print('The area of the triangle is %0.2f' %area)"
   ]
  },
  {
   "cell_type": "markdown",
   "metadata": {},
   "source": [
    "# 5. Program to Solve Quadratic Equation\n",
    "ax2 + bx + c = 0, where a, b and c are real numbers and a ≠ 0"
   ]
  },
  {
   "cell_type": "code",
   "execution_count": 2,
   "metadata": {},
   "outputs": [
    {
     "name": "stdout",
     "output_type": "stream",
     "text": [
      "Các giải của phương trình là (-0.4+0.6633249580710799j) và (-0.4-0.6633249580710799j)\n"
     ]
    }
   ],
   "source": [
    "import cmath\n",
    "\n",
    "### START CODE HERE ### \n",
    "\n",
    "# take inputs from the user\n",
    "a = 5\n",
    "b = 4\n",
    "c = 3\n",
    "\n",
    "# calculate the discriminant\n",
    "d = cmath.sqrt(b**2 - 4*a*c)\n",
    "\n",
    "# Tìm hai nghiệm của phương trình bậc hai sử dụng căn bậc hai cho số thực/số phức\n",
    "sol1 = (-b + d) / (2*a)\n",
    "sol2 = (-b - d) / (2*a)\n",
    "\n",
    "print('Các giải của phương trình là {0} và {1}'.format(sol1, sol2))\n"
   ]
  },
  {
   "cell_type": "markdown",
   "metadata": {},
   "source": [
    "# 6. Program to Swap Two Variables"
   ]
  },
  {
   "cell_type": "code",
   "execution_count": 4,
   "metadata": {},
   "outputs": [
    {
     "name": "stdout",
     "output_type": "stream",
     "text": [
      "After swapping:\n",
      "x = 4\n",
      "y = 3\n"
     ]
    }
   ],
   "source": [
    "# Take input from the user for x and y\n",
    "x = input(\"Enter the value of x: \")\n",
    "y = input(\"Enter the value of y: \")\n",
    "\n",
    "# Convert the input to integers (assuming you want to swap integers)\n",
    "x = int(x)\n",
    "y = int(y)\n",
    "\n",
    "# Create a temporary variable to store the value of x\n",
    "temp = x\n",
    "\n",
    "# Swap the values of x and y\n",
    "x = y\n",
    "y = temp\n",
    "\n",
    "# Print the swapped values\n",
    "print(\"After swapping:\")\n",
    "print(\"x =\", x)\n",
    "print(\"y =\", y)\n",
    "\n",
    "\n"
   ]
  },
  {
   "cell_type": "code",
   "execution_count": 5,
   "metadata": {},
   "outputs": [
    {
     "name": "stdout",
     "output_type": "stream",
     "text": [
      "Memory address of x: 140720427144040\n",
      "Memory address of y: 140720427144072\n",
      "Memory address of temp: 140720427144040\n"
     ]
    }
   ],
   "source": [
    "### START CODE HERE ### \n",
    "# writing code to get the address (in RAM) of x, y, temp through the built-in function id()\n",
    "# Take input from the user for x and y\n",
    "x = input(\"Enter the value of x: \")\n",
    "y = input(\"Enter the value of y: \")\n",
    "\n",
    "# Convert the input to integers (assuming you want to swap integers)\n",
    "x = int(x)\n",
    "y = int(y)\n",
    "\n",
    "# Create a temporary variable to store the value of x\n",
    "temp = x\n",
    "\n",
    "# Get the memory addresses of x, y, and temp using id()\n",
    "x_address = id(x)\n",
    "y_address = id(y)\n",
    "temp_address = id(temp)\n",
    "\n",
    "# Print the memory addresses\n",
    "print(\"Memory address of x:\", x_address)\n",
    "print(\"Memory address of y:\", y_address)\n",
    "print(\"Memory address of temp:\", temp_address)\n",
    "\n",
    "### END CODE HERE ###"
   ]
  },
  {
   "cell_type": "markdown",
   "metadata": {},
   "source": [
    "# 7. Program to Generate a Random Number\n",
    "https://docs.python.org/3/library/random.html"
   ]
  },
  {
   "cell_type": "code",
   "execution_count": 3,
   "metadata": {},
   "outputs": [
    {
     "name": "stdout",
     "output_type": "stream",
     "text": [
      "3\n",
      "7\n",
      "4\n",
      "0.7022737719987012\n",
      "4.45988215390786\n"
     ]
    }
   ],
   "source": [
    "# Program to generate a random number between 0 and 9\n",
    "\n",
    "# importing the random module\n",
    "import random\n",
    "\n",
    "print(random.randint(0,9))\n",
    "\n",
    "# Uncomment to try different function in random module\n",
    "print(random.randrange(9))\n",
    "print(random.randrange(3,9))\n",
    "print(random.random()) \n",
    "print(random.uniform(a,b))"
   ]
  },
  {
   "cell_type": "markdown",
   "metadata": {},
   "source": [
    "# 8. Program to Convert Kilometers to Miles\n",
    "1 km = (1/1.609344) mi = 0.62137119 mi"
   ]
  },
  {
   "cell_type": "code",
   "execution_count": 3,
   "metadata": {},
   "outputs": [
    {
     "name": "stdout",
     "output_type": "stream",
     "text": [
      "1.00 kilometers is equal to 0.62137100 miles\n"
     ]
    }
   ],
   "source": [
    "\n",
    "# Taking kilometers input from the user\n",
    "kilometers = float(input(\"Nhap:\"))\n",
    "\n",
    "# conversion factor\n",
    "conv_fac = 0.621371\n",
    "\n",
    "# calculate miles\n",
    "miles = kilometers * conv_fac\n",
    "print('%0.2f kilometers is equal to %0.8f miles' %(kilometers,miles))"
   ]
  },
  {
   "cell_type": "code",
   "execution_count": 11,
   "metadata": {},
   "outputs": [
    {
     "name": "stdout",
     "output_type": "stream",
     "text": [
      "3.0 miles is equal to 4.82802 kilometers\n"
     ]
    }
   ],
   "source": [
    "### START CODE HERE ### \n",
    "# Input the distance in miles\n",
    "miles = float(input(\"Enter the distance in miles: \"))\n",
    "\n",
    "# Convert miles to kilometers\n",
    "kilometers = miles * 1.60934\n",
    "\n",
    "# Print the result\n",
    "print(f\"{miles} miles is equal to {kilometers} kilometers\")\n",
    "\n",
    "\n",
    "### END CODE HERE ###"
   ]
  },
  {
   "cell_type": "markdown",
   "metadata": {},
   "source": [
    "# 9. Program to Convert Celsius To Fahrenheit\n",
    "T(°F) = T(°C) × 1.8 + 32"
   ]
  },
  {
   "cell_type": "code",
   "execution_count": 10,
   "metadata": {},
   "outputs": [
    {
     "name": "stdout",
     "output_type": "stream",
     "text": [
      "Độ Fahrenheit tương ứng là: 113.0\n"
     ]
    }
   ],
   "source": [
    "### START CODE HERE ### \n",
    "# Taking celsius input from the user\n",
    "celsius = float(input(\"Nhap:\"))\n",
    "\n",
    "# conversion factor\n",
    "\n",
    "celsius_to_fahrenheit = 9/5\n",
    "\n",
    "# calculate Fahrenheit\n",
    "fahrenheit = celsius * celsius_to_fahrenheit + 32\n",
    "\n",
    "# print result\n",
    "print(\"Độ Fahrenheit tương ứng là:\", fahrenheit)\n",
    "### END CODE HERE ###"
   ]
  }
 ],
 "metadata": {
  "kernelspec": {
   "display_name": "Python 3",
   "language": "python",
   "name": "python3"
  },
  "language_info": {
   "codemirror_mode": {
    "name": "ipython",
    "version": 3
   },
   "file_extension": ".py",
   "mimetype": "text/x-python",
   "name": "python",
   "nbconvert_exporter": "python",
   "pygments_lexer": "ipython3",
   "version": "3.11.4"
  }
 },
 "nbformat": 4,
 "nbformat_minor": 2
}
